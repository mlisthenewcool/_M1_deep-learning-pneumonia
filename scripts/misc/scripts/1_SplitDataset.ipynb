{
 "cells": [
  {
   "cell_type": "markdown",
   "metadata": {
    "colab_type": "text",
    "id": "su7RXjjRlh4D"
   },
   "source": [
    "## Split a dataset from \n",
    "\n",
    "- dataset_name\n",
    "    - [class 1, ..., class n]\n",
    "        - [image 1, ..., image m]\n",
    " \n",
    "## to \n",
    "\n",
    " - dataset_name\n",
    "    - [train, val, test] (test is optional)\n",
    "        - [class 1, ..., class n]\n",
    "            - [image 1, ..., image m]\n",
    "\n",
    "\n",
    "\n",
    "## Thanks to https://github.com/jfilter/split-folders"
   ]
  },
  {
   "cell_type": "code",
   "execution_count": 7,
   "metadata": {
    "colab": {
     "base_uri": "https://localhost:8080/",
     "height": 54
    },
    "colab_type": "code",
    "executionInfo": {
     "elapsed": 752,
     "status": "ok",
     "timestamp": 1558270184002,
     "user": {
      "displayName": "Hippolyte Debernardi",
      "photoUrl": "",
      "userId": "00537453753370429486"
     },
     "user_tz": -120
    },
    "id": "PKN5MEOOHkvY",
    "outputId": "8a5dffff-714b-4688-a7e9-b755aa577dfa"
   },
   "outputs": [
    {
     "name": "stdout",
     "output_type": "stream",
     "text": [
      "Drive already mounted at drive; to attempt to forcibly remount, call drive.mount(\"drive\", force_remount=True).\n"
     ]
    }
   ],
   "source": [
    "from google.colab import drive\n",
    "drive.mount('drive')"
   ]
  },
  {
   "cell_type": "code",
   "execution_count": null,
   "metadata": {
    "colab": {},
    "colab_type": "code",
    "id": "0UAApvyKJD4Z"
   },
   "outputs": [],
   "source": [
    "#! pip install split-folders"
   ]
  },
  {
   "cell_type": "code",
   "execution_count": null,
   "metadata": {
    "colab": {},
    "colab_type": "code",
    "id": "y__6AwkLHnk2"
   },
   "outputs": [],
   "source": [
    "#!/usr/bin/env python3\n",
    "# -*- coding: utf-8 -*-\n",
    "\"\"\"\n",
    "Created on Tue May 14 18:06:30 2019\n",
    "\n",
    "@author: hippolyte\n",
    "\"\"\"\n",
    "\n",
    "import split_folders\n",
    "\n",
    "ROOT_PATH = 'drive/My Drive/master1/medical_image_recognition/datasets/'\n",
    "INPUT_PATH = ROOT_PATH + 'kvasir_v2'\n",
    "OUTPUT_PATH = ROOT_PATH + INPUT_PATH + '_split'\n",
    "\n",
    "TRAIN_RATIO = 0.6\n",
    "TEST_RATIO = 0.2\n",
    "VAL_RATIO = 0.2\n",
    "\n",
    "SEED = 1234"
   ]
  },
  {
   "cell_type": "code",
   "execution_count": null,
   "metadata": {
    "colab": {},
    "colab_type": "code",
    "id": "30B_HGl-rlGC"
   },
   "outputs": [],
   "source": [
    "split_folders.ratio(INPUT_PATH,\n",
    "                    output=OUTPUT_PATH,\n",
    "                    seed=SEED,\n",
    "                    ratio=(TRAIN_RATIO, VAL_RATIO, TEST_RATIO))"
   ]
  },
  {
   "cell_type": "code",
   "execution_count": null,
   "metadata": {
    "colab": {},
    "colab_type": "code",
    "id": "yD6H3jXxJ66y"
   },
   "outputs": [],
   "source": []
  }
 ],
 "metadata": {
  "colab": {
   "collapsed_sections": [],
   "name": "split_dataset.ipynb",
   "provenance": [],
   "version": "0.3.2"
  },
  "kernelspec": {
   "display_name": "Python 3",
   "language": "python",
   "name": "python3"
  },
  "language_info": {
   "codemirror_mode": {
    "name": "ipython",
    "version": 3
   },
   "file_extension": ".py",
   "mimetype": "text/x-python",
   "name": "python",
   "nbconvert_exporter": "python",
   "pygments_lexer": "ipython3",
   "version": "3.6.7"
  }
 },
 "nbformat": 4,
 "nbformat_minor": 2
}
