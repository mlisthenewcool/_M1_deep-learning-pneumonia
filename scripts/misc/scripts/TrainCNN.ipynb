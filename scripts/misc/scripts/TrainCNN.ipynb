{
 "cells": [
  {
   "cell_type": "code",
   "execution_count": 1,
   "metadata": {},
   "outputs": [
    {
     "name": "stderr",
     "output_type": "stream",
     "text": [
      "Using TensorFlow backend.\n"
     ]
    }
   ],
   "source": [
    "import tensorflow as tf\n",
    "import numpy as np\n",
    "import os\n",
    "import imgaug as aug\n",
    "\n",
    "from keras.models import load_model\n",
    "from data import data_helper\n",
    "from model import *"
   ]
  },
  {
   "cell_type": "code",
   "execution_count": 2,
   "metadata": {},
   "outputs": [],
   "source": [
    "ROOT_PATH = '/home/hippolyte/Documents/universite/m1/TER/'\n",
    "DATASET_NAME = 'chest_xray'\n",
    "DATASET_PATH = ROOT_PATH + 'datasets/' + DATASET_NAME + '/'\n",
    "ARRAY_PATH = ROOT_PATH + 'arrays/' + DATASET_NAME + '/'\n",
    "MODEL_PATH = ROOT_PATH + 'models/' + DATASET_NAME + '/'\n",
    "\n",
    "HEIGHT, WIDTH, CHANNELS = 224, 224, 3\n",
    "\n",
    "# the next instructions are used to make results reproducible\n",
    "SEED = 1234\n",
    "os.environ['PYTHONHASHSEED'] = '0'\n",
    "np.random.seed(SEED)\n",
    "tf.set_random_seed(SEED)\n",
    "aug.seed(SEED)"
   ]
  },
  {
   "cell_type": "code",
   "execution_count": 3,
   "metadata": {},
   "outputs": [
    {
     "name": "stdout",
     "output_type": "stream",
     "text": [
      "['test', 'train', 'val']\n",
      "{'NORMAL': 0, 'PNEUMONIA': 1}\n"
     ]
    }
   ],
   "source": [
    "dataclass = data_helper(DATASET_NAME,\n",
    "                        DATASET_PATH,\n",
    "                        ARRAY_PATH,\n",
    "                        height=HEIGHT,\n",
    "                        width=WIDTH,\n",
    "                        channels=CHANNELS,\n",
    "                        histogram_equalization=False)\n",
    "\n",
    "print(dataclass.directories)\n",
    "print(dataclass.labels)"
   ]
  },
  {
   "cell_type": "code",
   "execution_count": 4,
   "metadata": {},
   "outputs": [
    {
     "name": "stdout",
     "output_type": "stream",
     "text": [
      "test: getting images from /home/hippolyte/Documents/universite/m1/TER/arrays/chest_xray/test(224,224,3).h5\n",
      "Data shape : (624, 224, 224, 3)\n",
      "Labels shape : (624, 2)\n",
      "Found 624 images in 2 seconds.\n",
      "train: getting images from /home/hippolyte/Documents/universite/m1/TER/arrays/chest_xray/train(224,224,3).h5\n",
      "Data shape : (5216, 224, 224, 3)\n",
      "Labels shape : (5216, 2)\n",
      "Found 5216 images in 23 seconds.\n",
      "val: getting images from /home/hippolyte/Documents/universite/m1/TER/arrays/chest_xray/val(224,224,3).h5\n",
      "Data shape : (16, 224, 224, 3)\n",
      "Labels shape : (16, 2)\n",
      "Found 16 images in 0 seconds.\n"
     ]
    }
   ],
   "source": [
    "#dataclass.save_images()\n",
    "dataclass.get_images()\n",
    "\n",
    "train_x = dataclass.x['train']\n",
    "train_y = dataclass.y['train']\n",
    "test_x  = dataclass.x['test']\n",
    "test_y  = dataclass.y['test']\n",
    "val_x   = dataclass.x['val']\n",
    "val_y   = dataclass.y['val']"
   ]
  },
  {
   "cell_type": "code",
   "execution_count": 5,
   "metadata": {},
   "outputs": [
    {
     "name": "stdout",
     "output_type": "stream",
     "text": [
      "NORMAL : 1341.0\n",
      "PNEUMONIA : 3875.0\n"
     ]
    }
   ],
   "source": [
    "import pandas as pd\n",
    "df = pd.DataFrame(train_y, columns=dataclass.labels.keys())\n",
    "\n",
    "for column in df.columns:\n",
    "    print(f'{column} : {np.array(df[df[column] == 1]).sum()}')"
   ]
  },
  {
   "cell_type": "code",
   "execution_count": 6,
   "metadata": {},
   "outputs": [],
   "source": [
    "class_weight_mapping = {0: 1.0, 1: 0.4}"
   ]
  },
  {
   "cell_type": "code",
   "execution_count": 7,
   "metadata": {},
   "outputs": [
    {
     "name": "stdout",
     "output_type": "stream",
     "text": [
      "WARNING:tensorflow:From /home/hippolyte/Programmes/anaconda3/lib/python3.6/site-packages/tensorflow/python/framework/op_def_library.py:263: colocate_with (from tensorflow.python.framework.ops) is deprecated and will be removed in a future version.\n",
      "Instructions for updating:\n",
      "Colocations handled automatically by placer.\n",
      "WARNING:tensorflow:From /home/hippolyte/Programmes/anaconda3/lib/python3.6/site-packages/keras/backend/tensorflow_backend.py:3445: calling dropout (from tensorflow.python.ops.nn_ops) with keep_prob is deprecated and will be removed in a future version.\n",
      "Instructions for updating:\n",
      "Please use `rate` instead of `keep_prob`. Rate should be set to `rate = 1 - keep_prob`.\n",
      "Model created.\n",
      "_________________________________________________________________\n",
      "Layer (type)                 Output Shape              Param #   \n",
      "=================================================================\n",
      "ImageInput (InputLayer)      (None, 224, 224, 3)       0         \n",
      "_________________________________________________________________\n",
      "block1_conv1 (Conv2D)        (None, 224, 224, 64)      1792      \n",
      "_________________________________________________________________\n",
      "block1_conv2 (Conv2D)        (None, 224, 224, 64)      36928     \n",
      "_________________________________________________________________\n",
      "block1_pool (MaxPooling2D)   (None, 112, 112, 64)      0         \n",
      "_________________________________________________________________\n",
      "block2_sepconv1 (SeparableCo (None, 112, 112, 128)     8896      \n",
      "_________________________________________________________________\n",
      "block2_sepconv2 (SeparableCo (None, 112, 112, 128)     17664     \n",
      "_________________________________________________________________\n",
      "block2_pool (MaxPooling2D)   (None, 56, 56, 128)       0         \n",
      "_________________________________________________________________\n",
      "block3_sepconv1 (SeparableCo (None, 56, 56, 256)       34176     \n",
      "_________________________________________________________________\n",
      "block3_conv1_bn (BatchNormal (None, 56, 56, 256)       1024      \n",
      "_________________________________________________________________\n",
      "block3_sepconv2 (SeparableCo (None, 56, 56, 256)       68096     \n",
      "_________________________________________________________________\n",
      "block3_conv2_bn (BatchNormal (None, 56, 56, 256)       1024      \n",
      "_________________________________________________________________\n",
      "block3_sepconv3 (SeparableCo (None, 56, 56, 256)       68096     \n",
      "_________________________________________________________________\n",
      "block3_pool (MaxPooling2D)   (None, 28, 28, 256)       0         \n",
      "_________________________________________________________________\n",
      "block4_sepconv1 (SeparableCo (None, 28, 28, 512)       133888    \n",
      "_________________________________________________________________\n",
      "block4_conv1_bn (BatchNormal (None, 28, 28, 512)       2048      \n",
      "_________________________________________________________________\n",
      "block4_sepconv2 (SeparableCo (None, 28, 28, 512)       267264    \n",
      "_________________________________________________________________\n",
      "block4_conv2_bn (BatchNormal (None, 28, 28, 512)       2048      \n",
      "_________________________________________________________________\n",
      "block4_sepconv3 (SeparableCo (None, 28, 28, 512)       267264    \n",
      "_________________________________________________________________\n",
      "block4_pool (MaxPooling2D)   (None, 14, 14, 512)       0         \n",
      "_________________________________________________________________\n",
      "flatten (Flatten)            (None, 100352)            0         \n",
      "_________________________________________________________________\n",
      "fc1 (Dense)                  (None, 1024)              102761472 \n",
      "_________________________________________________________________\n",
      "dropout1 (Dropout)           (None, 1024)              0         \n",
      "_________________________________________________________________\n",
      "fc2 (Dense)                  (None, 512)               524800    \n",
      "_________________________________________________________________\n",
      "dropout2 (Dropout)           (None, 512)               0         \n",
      "_________________________________________________________________\n",
      "predictions (Dense)          (None, 2)                 1026      \n",
      "=================================================================\n",
      "Total params: 104,197,506\n",
      "Trainable params: 104,194,434\n",
      "Non-trainable params: 3,072\n",
      "_________________________________________________________________\n",
      "Load weights of the first 2 Conv2D layers\n",
      "block1_conv1\n",
      "block1_conv2\n"
     ]
    }
   ],
   "source": [
    "# optimizers\n",
    "from keras.optimizers import Adam\n",
    "optimizer = Adam(lr=1e-4, decay=1e-5)\n",
    "\n",
    "weights_path = ROOT_PATH + 'vgg19_weights_no_top.h5'\n",
    "\n",
    "#vgg19_ = vgg19.VGG19(weights='imagenet', include_top=False)\n",
    "#vgg19_.save_weights(weights_path)\n",
    "\n",
    "# create the model\n",
    "model = create_our_cnn(dataclass.num_labels,\n",
    "                       weights_path=weights_path,\n",
    "                       input_shape=(dataclass.height,\n",
    "                                    dataclass.width,\n",
    "                                    dataclass.channels),\n",
    "                       optimizers=optimizer)\n",
    "\n",
    "# paths\n",
    "save_model_path = MODEL_PATH + model.name + '.hdf5'\n",
    "save_history_path = MODEL_PATH + model.name + '.history'"
   ]
  },
  {
   "cell_type": "code",
   "execution_count": 19,
   "metadata": {},
   "outputs": [
    {
     "name": "stdout",
     "output_type": "stream",
     "text": [
      "ImageInput : False\n",
      "[]\n",
      "block1_conv1 : False\n",
      "[<tf.Variable 'block1_conv1/kernel:0' shape=(3, 3, 3, 64) dtype=float32_ref>, <tf.Variable 'block1_conv1/bias:0' shape=(64,) dtype=float32_ref>]\n",
      "block1_conv2 : False\n",
      "[<tf.Variable 'block1_conv2/kernel:0' shape=(3, 3, 64, 64) dtype=float32_ref>, <tf.Variable 'block1_conv2/bias:0' shape=(64,) dtype=float32_ref>]\n",
      "block1_pool : True\n",
      "[]\n",
      "block2_sepconv1 : True\n",
      "[<tf.Variable 'block2_sepconv1/depthwise_kernel:0' shape=(3, 3, 64, 1) dtype=float32_ref>, <tf.Variable 'block2_sepconv1/pointwise_kernel:0' shape=(1, 1, 64, 128) dtype=float32_ref>, <tf.Variable 'block2_sepconv1/bias:0' shape=(128,) dtype=float32_ref>]\n",
      "block2_sepconv2 : True\n",
      "[<tf.Variable 'block2_sepconv2/depthwise_kernel:0' shape=(3, 3, 128, 1) dtype=float32_ref>, <tf.Variable 'block2_sepconv2/pointwise_kernel:0' shape=(1, 1, 128, 128) dtype=float32_ref>, <tf.Variable 'block2_sepconv2/bias:0' shape=(128,) dtype=float32_ref>]\n",
      "block2_pool : True\n",
      "[]\n",
      "block3_sepconv1 : True\n",
      "[<tf.Variable 'block3_sepconv1/depthwise_kernel:0' shape=(3, 3, 128, 1) dtype=float32_ref>, <tf.Variable 'block3_sepconv1/pointwise_kernel:0' shape=(1, 1, 128, 256) dtype=float32_ref>, <tf.Variable 'block3_sepconv1/bias:0' shape=(256,) dtype=float32_ref>]\n",
      "block3_conv1_bn : True\n",
      "[<tf.Variable 'block3_conv1_bn/gamma:0' shape=(256,) dtype=float32_ref>, <tf.Variable 'block3_conv1_bn/beta:0' shape=(256,) dtype=float32_ref>, <tf.Variable 'block3_conv1_bn/moving_mean:0' shape=(256,) dtype=float32_ref>, <tf.Variable 'block3_conv1_bn/moving_variance:0' shape=(256,) dtype=float32_ref>]\n",
      "block3_sepconv2 : True\n",
      "[<tf.Variable 'block3_sepconv2/depthwise_kernel:0' shape=(3, 3, 256, 1) dtype=float32_ref>, <tf.Variable 'block3_sepconv2/pointwise_kernel:0' shape=(1, 1, 256, 256) dtype=float32_ref>, <tf.Variable 'block3_sepconv2/bias:0' shape=(256,) dtype=float32_ref>]\n",
      "block3_conv2_bn : True\n",
      "[<tf.Variable 'block3_conv2_bn/gamma:0' shape=(256,) dtype=float32_ref>, <tf.Variable 'block3_conv2_bn/beta:0' shape=(256,) dtype=float32_ref>, <tf.Variable 'block3_conv2_bn/moving_mean:0' shape=(256,) dtype=float32_ref>, <tf.Variable 'block3_conv2_bn/moving_variance:0' shape=(256,) dtype=float32_ref>]\n",
      "block3_sepconv3 : True\n",
      "[<tf.Variable 'block3_sepconv3/depthwise_kernel:0' shape=(3, 3, 256, 1) dtype=float32_ref>, <tf.Variable 'block3_sepconv3/pointwise_kernel:0' shape=(1, 1, 256, 256) dtype=float32_ref>, <tf.Variable 'block3_sepconv3/bias:0' shape=(256,) dtype=float32_ref>]\n",
      "block3_pool : True\n",
      "[]\n",
      "block4_sepconv1 : True\n",
      "[<tf.Variable 'block4_sepconv1/depthwise_kernel:0' shape=(3, 3, 256, 1) dtype=float32_ref>, <tf.Variable 'block4_sepconv1/pointwise_kernel:0' shape=(1, 1, 256, 512) dtype=float32_ref>, <tf.Variable 'block4_sepconv1/bias:0' shape=(512,) dtype=float32_ref>]\n",
      "block4_conv1_bn : True\n",
      "[<tf.Variable 'block4_conv1_bn/gamma:0' shape=(512,) dtype=float32_ref>, <tf.Variable 'block4_conv1_bn/beta:0' shape=(512,) dtype=float32_ref>, <tf.Variable 'block4_conv1_bn/moving_mean:0' shape=(512,) dtype=float32_ref>, <tf.Variable 'block4_conv1_bn/moving_variance:0' shape=(512,) dtype=float32_ref>]\n",
      "block4_sepconv2 : True\n",
      "[<tf.Variable 'block4_sepconv2/depthwise_kernel:0' shape=(3, 3, 512, 1) dtype=float32_ref>, <tf.Variable 'block4_sepconv2/pointwise_kernel:0' shape=(1, 1, 512, 512) dtype=float32_ref>, <tf.Variable 'block4_sepconv2/bias:0' shape=(512,) dtype=float32_ref>]\n",
      "block4_conv2_bn : True\n",
      "[<tf.Variable 'block4_conv2_bn/gamma:0' shape=(512,) dtype=float32_ref>, <tf.Variable 'block4_conv2_bn/beta:0' shape=(512,) dtype=float32_ref>, <tf.Variable 'block4_conv2_bn/moving_mean:0' shape=(512,) dtype=float32_ref>, <tf.Variable 'block4_conv2_bn/moving_variance:0' shape=(512,) dtype=float32_ref>]\n",
      "block4_sepconv3 : True\n",
      "[<tf.Variable 'block4_sepconv3/depthwise_kernel:0' shape=(3, 3, 512, 1) dtype=float32_ref>, <tf.Variable 'block4_sepconv3/pointwise_kernel:0' shape=(1, 1, 512, 512) dtype=float32_ref>, <tf.Variable 'block4_sepconv3/bias:0' shape=(512,) dtype=float32_ref>]\n",
      "block4_pool : True\n",
      "[]\n",
      "flatten : True\n",
      "[]\n",
      "fc1 : True\n",
      "[<tf.Variable 'fc1/kernel:0' shape=(100352, 1024) dtype=float32_ref>, <tf.Variable 'fc1/bias:0' shape=(1024,) dtype=float32_ref>]\n",
      "dropout1 : True\n",
      "[]\n",
      "fc2 : True\n",
      "[<tf.Variable 'fc2/kernel:0' shape=(1024, 512) dtype=float32_ref>, <tf.Variable 'fc2/bias:0' shape=(512,) dtype=float32_ref>]\n",
      "dropout2 : True\n",
      "[]\n",
      "predictions : True\n",
      "[<tf.Variable 'predictions/kernel:0' shape=(512, 2) dtype=float32_ref>, <tf.Variable 'predictions/bias:0' shape=(2,) dtype=float32_ref>]\n"
     ]
    }
   ],
   "source": [
    "for layer in model.layers:\n",
    "    print(f'{layer.name} : {layer.trainable}')"
   ]
  },
  {
   "cell_type": "code",
   "execution_count": 8,
   "metadata": {},
   "outputs": [
    {
     "data": {
      "text/plain": [
       "\"\\n# training\\ntrain_model(model,\\n            train_x,\\n            train_y,\\n            val_x,\\n            val_y,\\n            save_model_path,\\n            epochs=300,\\n            batch_size=32,\\n            metric='val_loss',\\n            save_best_only=True,\\n            save_weights_only=False,\\n            stop_after=20,\\n            save_history=True,\\n            save_history_path=save_history_path,\\n            class_weight_mapping=class_weight_mapping)\\n\""
      ]
     },
     "execution_count": 8,
     "metadata": {},
     "output_type": "execute_result"
    }
   ],
   "source": [
    "\"\"\"\n",
    "# training\n",
    "train_model(model,\n",
    "            train_x,\n",
    "            train_y,\n",
    "            val_x,\n",
    "            val_y,\n",
    "            save_model_path,\n",
    "            epochs=300,\n",
    "            batch_size=32,\n",
    "            metric='val_loss',\n",
    "            save_best_only=True,\n",
    "            save_weights_only=False,\n",
    "            stop_after=20,\n",
    "            save_history=True,\n",
    "            save_history_path=save_history_path,\n",
    "            class_weight_mapping=class_weight_mapping)\n",
    "\"\"\""
   ]
  }
 ],
 "metadata": {
  "kernelspec": {
   "display_name": "Python 3",
   "language": "python",
   "name": "python3"
  },
  "language_info": {
   "codemirror_mode": {
    "name": "ipython",
    "version": 3
   },
   "file_extension": ".py",
   "mimetype": "text/x-python",
   "name": "python",
   "nbconvert_exporter": "python",
   "pygments_lexer": "ipython3",
   "version": "3.6.7"
  }
 },
 "nbformat": 4,
 "nbformat_minor": 2
}
