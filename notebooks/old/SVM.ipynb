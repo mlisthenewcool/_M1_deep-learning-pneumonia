{
 "cells": [
  {
   "cell_type": "code",
   "execution_count": null,
   "metadata": {
    "colab": {
     "base_uri": "https://localhost:8080/",
     "height": 35
    },
    "colab_type": "code",
    "id": "_tvuc1jAQx2J",
    "outputId": "6a2fd7c6-8f2d-4000-a1dc-c9fcbf9b170e"
   },
   "outputs": [],
   "source": [
    "#from google.colab import drive\n",
    "#drive.mount('drive')"
   ]
  },
  {
   "cell_type": "code",
   "execution_count": null,
   "metadata": {
    "colab": {},
    "colab_type": "code",
    "id": "DnsJs4U3Qx2O"
   },
   "outputs": [],
   "source": [
    "from sklearn.model_selection import GridSearchCV\n",
    "from sklearn.svm import SVC\n",
    "import numpy as np\n"
   ]
  },
  {
   "cell_type": "code",
   "execution_count": null,
   "metadata": {
    "colab": {},
    "colab_type": "code",
    "id": "fruZKeByQx2R"
   },
   "outputs": [],
   "source": [
    "\n",
    "#dataset's path \n",
    "dir_path_DataSet=''\n",
    "\n",
    "ter_path=\"\"\n",
    "#fold name for saving files(kmean/PCA)\n",
    "vlad_fold=\"vlad_fold/\"\n",
    "#Y's fold \n",
    "y_fold='dataNpVGG/'\n",
    "\n",
    "docs=['chest_xray','miniMIT_Etus']#,'chest_xray','kvasir-dataset-v2']#,'miniMIT_Etus','kvasir-dataset-v2']\n",
    "layers=['block5_pool']#,'block8_9_conv']#,'block8_8_conv']"
   ]
  },
  {
   "cell_type": "code",
   "execution_count": null,
   "metadata": {
    "colab": {
     "base_uri": "https://localhost:8080/",
     "height": 72
    },
    "colab_type": "code",
    "id": "Z_XXw-f1Qx2T",
    "outputId": "3f8a1712-2efd-457e-f03a-bd98891c6cea"
   },
   "outputs": [],
   "source": [
    "for doc in docs:\n",
    "    for layer in layers:\n",
    "        v_train_64 = np.load(ter_path+vlad_fold+doc+'_'+layer+'_'+'vlad_train(64).npy')\n",
    "        v_train_256= np.load(ter_path+vlad_fold+doc+'_'+layer+'_'+'vlad_train(256).npy')\n",
    "        v_test_64  = np.load(ter_path+vlad_fold+doc+'_'+layer+'_'+'vlad_test(64).npy')\n",
    "        v_test_256 = np.load(ter_path+vlad_fold+doc+'_'+layer+'_'+'vlad_test(256).npy')\n",
    "        \n",
    "        print(v_train_64.shape)\n",
    "        y_train=np.load(dir_path_DataSet + y_fold + doc +'Y_train_'+layer + '(' + str(0) + ').npy')\n",
    "        y_test=np.load( dir_path_DataSet + y_fold + doc +'Y_test_'+layer + '(' + str(0) + ').npy')\n",
    "        print(v_train_256.shape)\n",
    "        \n",
    "        \n",
    "        #################################################\n",
    "        print('SUPPORT VECTOR MACHINE 256')\n",
    "  \n",
    "        parameters = {'C':[0.0001,0.001,0.01, 0.1, 1, 10,100]}\n",
    "        clf = SVC(kernel='linear')\n",
    "        clf = GridSearchCV(clf, parameters, cv=3)\n",
    "        clf.fit(v_train_256, y_train)\n",
    "\n",
    "        print('Accuracy vlad 256: %.2f' % clf.score(v_test_256, y_test))\n",
    "        \n",
    "        print('prediction SVM [%s,%s]' %(doc , layer))\n",
    "        \n",
    "        ####################################################\n",
    "        \n",
    "        print('SUPPORT VECTOR MACHINE 64')\n",
    "  \n",
    "        parameters = {'C':[0.0001,0.001,0.01, 0.1, 1, 10,100]}\n",
    "        clf = SVC(kernel='linear')\n",
    "        clf = GridSearchCV(clf, parameters, cv=3)\n",
    "        clf.fit(v_train_64, y_train)\n",
    "\n",
    "        print('Accuracy vlad 64: %.2f' % clf.score(v_test_64, y_test))\n",
    "        \n",
    "        \n",
    "        "
   ]
  },
  {
   "cell_type": "code",
   "execution_count": null,
   "metadata": {
    "colab": {},
    "colab_type": "code",
    "id": "3WLPyYCmYTRV"
   },
   "outputs": [],
   "source": []
  }
 ],
 "metadata": {
  "colab": {
   "collapsed_sections": [],
   "name": "SVM.ipynb",
   "provenance": [],
   "version": "0.3.2"
  },
  "kernelspec": {
   "display_name": "Python 3",
   "language": "python",
   "name": "python3"
  },
  "language_info": {
   "codemirror_mode": {
    "name": "ipython",
    "version": 3
   },
   "file_extension": ".py",
   "mimetype": "text/x-python",
   "name": "python",
   "nbconvert_exporter": "python",
   "pygments_lexer": "ipython3",
   "version": "3.7.1"
  }
 },
 "nbformat": 4,
 "nbformat_minor": 2
}
